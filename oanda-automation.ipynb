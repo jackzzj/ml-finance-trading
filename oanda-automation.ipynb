{
 "cells": [
  {
   "cell_type": "code",
   "execution_count": 4,
   "metadata": {
    "collapsed": false
   },
   "outputs": [],
   "source": [
    "import numpy as np\n",
    "import pandas as pd\n",
    "import oandapy as opy\n",
    "import seaborn as sns; sns.set()\n",
    "import warnings\n",
    "warnings.simplefilter(\"ignore\")\n",
    "path = '/data/'\n",
    "%matplotlib inline"
   ]
  },
  {
   "cell_type": "code",
   "execution_count": 94,
   "metadata": {
    "collapsed": false
   },
   "outputs": [],
   "source": [
    "# Oanda credentials \n",
    "accountId= 'jackzzj'\n",
    "token = '45aff23ea917f1a9ebda0346eca04da7-c9b6ceb7f9307a4647b8804b364e0145'"
   ]
  },
  {
   "cell_type": "code",
   "execution_count": 95,
   "metadata": {
    "collapsed": false
   },
   "outputs": [],
   "source": [
    "# Establish a connection\n",
    "oanda = opy.API(environment='practice', access_token=token)"
   ]
  },
  {
   "cell_type": "code",
   "execution_count": 97,
   "metadata": {
    "collapsed": false
   },
   "outputs": [
    {
     "name": "stdout",
     "output_type": "stream",
     "text": [
      "{\n",
      "\t\"code\" : 1,\n",
      "\t\"message\" : \"Invalid or malformed argument: accountId\",\n",
      "\t\"moreInfo\" : \"http:\\/\\/developer.oanda.com\\/docs\\/v1\\/troubleshooting\\/#errors\"\n",
      "}\n"
     ]
    }
   ],
   "source": [
    "#ins = oanda.get_instruments(account_id=accountId)\n",
    "#response = oanda.get_prices(instruments=\"EUR_USD\")\n",
    "#prices = response.get(\"prices\")\n",
    "#prices\n",
    "import requests\n",
    "header = {'Authorization': 'Bearer '+token}\n",
    "resp = requests.get('https://api-fxpractice.oanda.com'+'/v1/instruments?accountId={0}'.format(accountId), headers=header)\n",
    "response = resp.text\n",
    "print(response)"
   ]
  },
  {
   "cell_type": "code",
   "execution_count": 21,
   "metadata": {
    "collapsed": false
   },
   "outputs": [
    {
     "ename": "OandaError",
     "evalue": "OANDA API returned error code 46 (Invalid instrument: CAD_USD) ",
     "output_type": "error",
     "traceback": [
      "\u001b[0;31m\u001b[0m",
      "\u001b[0;31mOandaError\u001b[0mTraceback (most recent call last)",
      "\u001b[0;32m<ipython-input-21-74278569206c>\u001b[0m in \u001b[0;36m<module>\u001b[0;34m()\u001b[0m\n\u001b[1;32m      4\u001b[0m                         \u001b[0mstart\u001b[0m\u001b[1;33m=\u001b[0m\u001b[0mstart_date\u001b[0m\u001b[1;33m,\u001b[0m\u001b[1;33m\u001b[0m\u001b[0m\n\u001b[1;32m      5\u001b[0m                         \u001b[0mend\u001b[0m\u001b[1;33m=\u001b[0m\u001b[0mend_date\u001b[0m\u001b[1;33m,\u001b[0m\u001b[1;33m\u001b[0m\u001b[0m\n\u001b[0;32m----> 6\u001b[0;31m                         granularity='D')\n\u001b[0m",
      "\u001b[0;32mC:\\Users\\C5252453\\AppData\\Local\\Continuum\\Anaconda2\\lib\\site-packages\\oandapy\\oandapy.pyc\u001b[0m in \u001b[0;36mget_history\u001b[0;34m(self, **params)\u001b[0m\n\u001b[1;32m     36\u001b[0m         \"\"\"\n\u001b[1;32m     37\u001b[0m         \u001b[0mendpoint\u001b[0m \u001b[1;33m=\u001b[0m \u001b[1;34m'v1/candles'\u001b[0m\u001b[1;33m\u001b[0m\u001b[0m\n\u001b[0;32m---> 38\u001b[0;31m         \u001b[1;32mreturn\u001b[0m \u001b[0mself\u001b[0m\u001b[1;33m.\u001b[0m\u001b[0mrequest\u001b[0m\u001b[1;33m(\u001b[0m\u001b[0mendpoint\u001b[0m\u001b[1;33m,\u001b[0m \u001b[0mparams\u001b[0m\u001b[1;33m=\u001b[0m\u001b[0mparams\u001b[0m\u001b[1;33m)\u001b[0m\u001b[1;33m\u001b[0m\u001b[0m\n\u001b[0m\u001b[1;32m     39\u001b[0m \u001b[1;33m\u001b[0m\u001b[0m\n\u001b[1;32m     40\u001b[0m     \u001b[1;34m\"\"\"Accounts\"\"\"\u001b[0m\u001b[1;33m\u001b[0m\u001b[0m\n",
      "\u001b[0;32mC:\\Users\\C5252453\\AppData\\Local\\Continuum\\Anaconda2\\lib\\site-packages\\oandapy\\oandapy.pyc\u001b[0m in \u001b[0;36mrequest\u001b[0;34m(self, endpoint, method, params)\u001b[0m\n\u001b[1;32m    282\u001b[0m         \u001b[1;31m# error message\u001b[0m\u001b[1;33m\u001b[0m\u001b[1;33m\u001b[0m\u001b[0m\n\u001b[1;32m    283\u001b[0m         \u001b[1;32mif\u001b[0m \u001b[0mresponse\u001b[0m\u001b[1;33m.\u001b[0m\u001b[0mstatus_code\u001b[0m \u001b[1;33m>=\u001b[0m \u001b[1;36m400\u001b[0m\u001b[1;33m:\u001b[0m\u001b[1;33m\u001b[0m\u001b[0m\n\u001b[0;32m--> 284\u001b[0;31m             \u001b[1;32mraise\u001b[0m \u001b[0mOandaError\u001b[0m\u001b[1;33m(\u001b[0m\u001b[0mcontent\u001b[0m\u001b[1;33m)\u001b[0m\u001b[1;33m\u001b[0m\u001b[0m\n\u001b[0m\u001b[1;32m    285\u001b[0m \u001b[1;33m\u001b[0m\u001b[0m\n\u001b[1;32m    286\u001b[0m         \u001b[1;32mreturn\u001b[0m \u001b[0mcontent\u001b[0m\u001b[1;33m\u001b[0m\u001b[0m\n",
      "\u001b[0;31mOandaError\u001b[0m: OANDA API returned error code 46 (Invalid instrument: CAD_USD) "
     ]
    }
   ],
   "source": [
    "start_date = '2017-01-15'\n",
    "end_date = '2017-01-16'\n",
    "data = oanda.get_history(instrument='CAD_USD',\n",
    "                        start=start_date,\n",
    "                        end=end_date,\n",
    "                        granularity='D')"
   ]
  },
  {
   "cell_type": "code",
   "execution_count": null,
   "metadata": {
    "collapsed": true
   },
   "outputs": [],
   "source": []
  }
 ],
 "metadata": {
  "anaconda-cloud": {},
  "kernelspec": {
   "display_name": "Python [conda root]",
   "language": "python",
   "name": "conda-root-py"
  },
  "language_info": {
   "codemirror_mode": {
    "name": "ipython",
    "version": 2
   },
   "file_extension": ".py",
   "mimetype": "text/x-python",
   "name": "python",
   "nbconvert_exporter": "python",
   "pygments_lexer": "ipython2",
   "version": "2.7.12"
  }
 },
 "nbformat": 4,
 "nbformat_minor": 1
}
